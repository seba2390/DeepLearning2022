{
 "cells": [
  {
   "cell_type": "code",
   "execution_count": 36,
   "outputs": [],
   "source": [
    "import torch as tc\n",
    "import numpy as np"
   ],
   "metadata": {
    "collapsed": false,
    "pycharm": {
     "name": "#%%\n"
    }
   }
  },
  {
   "cell_type": "code",
   "execution_count": 78,
   "outputs": [],
   "source": [
    "def softmax_stable(x):\n",
    "    result = np.empty(shape=x.shape,dtype=float)\n",
    "    for i in range(x.shape[0]):\n",
    "        result[i] = np.exp(x[i] - np.max(x[i])) / np.exp(x[i] - np.max(x[i])).sum()\n",
    "    return result"
   ],
   "metadata": {
    "collapsed": false,
    "pycharm": {
     "name": "#%%\n"
    }
   }
  },
  {
   "cell_type": "code",
   "execution_count": 67,
   "outputs": [],
   "source": [
    "np.random.seed(0)\n",
    "N,D,K = 10, 5, 8\n",
    "X = np.random.uniform(0, 1, (N, D))\n",
    "W = np.random.uniform(0, 2, (D, K))\n",
    "Y = np.random.uniform(0, 3, (N, K))"
   ],
   "metadata": {
    "collapsed": false,
    "pycharm": {
     "name": "#%%\n"
    }
   }
  },
  {
   "cell_type": "code",
   "execution_count": 84,
   "outputs": [
    {
     "data": {
      "text/plain": "array([[0.20238913, 0.042316  , 0.19604007, 0.01834228, 0.19615684,\n        0.02755783, 0.17727846, 0.13991939],\n       [0.26306299, 0.02110891, 0.21689852, 0.01022092, 0.15559536,\n        0.01921101, 0.20069832, 0.11320397],\n       [0.33056366, 0.02789934, 0.21778607, 0.01551849, 0.12789491,\n        0.02608774, 0.16676351, 0.0874863 ],\n       [0.12936756, 0.03767749, 0.16653772, 0.01903473, 0.17688045,\n        0.02650929, 0.21282876, 0.23116399],\n       [0.30951872, 0.03346368, 0.24085777, 0.0143248 , 0.13320473,\n        0.0227243 , 0.1597123 , 0.0861937 ],\n       [0.1747312 , 0.02861563, 0.26577628, 0.01364325, 0.14363578,\n        0.02597735, 0.23771818, 0.10990234],\n       [0.27493536, 0.0434077 , 0.1312766 , 0.03182079, 0.2159199 ,\n        0.04776554, 0.13770862, 0.11716548],\n       [0.20944419, 0.03490057, 0.206293  , 0.01270429, 0.16603986,\n        0.0176777 , 0.18339056, 0.16954983],\n       [0.10327025, 0.05987963, 0.20196613, 0.02385532, 0.20426347,\n        0.03412139, 0.20241068, 0.17023312],\n       [0.14867123, 0.09564297, 0.24844408, 0.0443885 , 0.10902318,\n        0.04720938, 0.17176779, 0.13485286]])"
     },
     "execution_count": 84,
     "metadata": {},
     "output_type": "execute_result"
    }
   ],
   "source": [
    "prod = X @ W\n",
    "softmax = np.diag(1 / np.sum(prod, axis=1)) @ prod\n",
    "new = softmax_stable(prod)\n",
    "new"
   ],
   "metadata": {
    "collapsed": false,
    "pycharm": {
     "name": "#%%\n"
    }
   }
  },
  {
   "cell_type": "code",
   "execution_count": 70,
   "outputs": [
    {
     "data": {
      "text/plain": "array([[-0.45187796]])"
     },
     "execution_count": 70,
     "metadata": {},
     "output_type": "execute_result"
    }
   ],
   "source": [
    "_loss = 0.0\n",
    "for i in range(N):\n",
    "    _x_vec = np.reshape(X[i],newshape=(X.shape[1],1))\n",
    "    _y_vec = np.reshape(Y[i],newshape=(Y.shape[1],1))\n",
    "    _lin_term = _x_vec.T @ W\n",
    "    _z_max = np.amax(_lin_term)\n",
    "    _log_sum = np.log(np.sum(np.exp(_lin_term - _z_max)))\n",
    "    _softmax = np.exp(_lin_term - _z_max - _log_sum).T\n",
    "    _loss -= np.log((_y_vec.T @ _softmax)) / N\n",
    "_loss"
   ],
   "metadata": {
    "collapsed": false,
    "pycharm": {
     "name": "#%%\n"
    }
   }
  },
  {
   "cell_type": "code",
   "execution_count": 39,
   "outputs": [
    {
     "data": {
      "text/plain": "2.0868497856637385"
     },
     "execution_count": 39,
     "metadata": {},
     "output_type": "execute_result"
    }
   ],
   "source": [
    "PROD = X @ W\n",
    "_z_max = np.amax(PROD, axis=1, keepdims=True)\n",
    "_logsum = np.log(np.sum(np.exp(PROD - _z_max), axis=1, keepdims=True))\n",
    "_softmax = np.exp(PROD - _z_max - _logsum)\n",
    "_loss = np.mean(-np.sum(Y.T @ _softmax,axis=1))/N\n",
    "_loss"
   ],
   "metadata": {
    "collapsed": false,
    "pycharm": {
     "name": "#%%\n"
    }
   }
  },
  {
   "cell_type": "code",
   "execution_count": null,
   "outputs": [],
   "source": [],
   "metadata": {
    "collapsed": false,
    "pycharm": {
     "name": "#%%\n"
    }
   }
  }
 ],
 "metadata": {
  "kernelspec": {
   "display_name": "Python 3",
   "language": "python",
   "name": "python3"
  },
  "language_info": {
   "codemirror_mode": {
    "name": "ipython",
    "version": 2
   },
   "file_extension": ".py",
   "mimetype": "text/x-python",
   "name": "python",
   "nbconvert_exporter": "python",
   "pygments_lexer": "ipython2",
   "version": "2.7.6"
  }
 },
 "nbformat": 4,
 "nbformat_minor": 0
}