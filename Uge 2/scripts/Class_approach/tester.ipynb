{
 "cells": [
  {
   "cell_type": "code",
   "execution_count": 1,
   "outputs": [],
   "source": [
    "import numpy as np"
   ],
   "metadata": {
    "collapsed": false,
    "pycharm": {
     "name": "#%%\n"
    }
   }
  },
  {
   "cell_type": "code",
   "execution_count": 6,
   "outputs": [
    {
     "data": {
      "text/plain": "(array([[0.16643551, 0.00138696, 0.04160888, 0.7628294 , 0.02773925],\n        [0.4       , 0.01333333, 0.04444444, 0.53333333, 0.00888889],\n        [0.04604052, 0.91160221, 0.0092081 , 0.00184162, 0.03130755]]),\n array([[0.1846192 , 0.15652986, 0.16295412, 0.33518721, 0.16070961],\n        [0.23814982, 0.16177934, 0.16689159, 0.27211733, 0.16106192],\n        [0.15917695, 0.37825862, 0.15342073, 0.15229471, 0.15684899]]))"
     },
     "execution_count": 6,
     "metadata": {},
     "output_type": "execute_result"
    }
   ],
   "source": [
    "def softmax(X: np.ndarray) -> np.ndarray:\n",
    "    \"\"\"\n",
    "    Args:\n",
    "        X: numpy array shape (n, d) each row is a data point\n",
    "    Returns:\n",
    "        res: numpy array shape (n, d)  where each row is the softmax transformation of the corresponding row in X i.e res[i, :] = softmax(X[i, :])\n",
    "    \"\"\"\n",
    "\n",
    "    if X.ndim == 1:\n",
    "        X = np.reshape(X, newshape=(1, X.shape[0]))\n",
    "    _z_max = np.amax(X, axis=1, keepdims=True)\n",
    "    _logsum = np.log(np.sum(np.exp(X - _z_max), axis=1, keepdims=True))\n",
    "    _result = np.exp(X - _z_max - _logsum)\n",
    "    return _result\n",
    "\n",
    "X = np.array([[12,0.1,3,55,2.0],[9,0.3,1,12,0.2],[5,99,1,0.2,3.4]])\n",
    "for row in X:\n",
    "    row *= 1.0 / np.sum(row)\n",
    "X,softmax(X)\n"
   ],
   "metadata": {
    "collapsed": false,
    "pycharm": {
     "name": "#%%\n"
    }
   }
  },
  {
   "cell_type": "code",
   "execution_count": null,
   "outputs": [],
   "source": [],
   "metadata": {
    "collapsed": false,
    "pycharm": {
     "name": "#%%\n"
    }
   }
  }
 ],
 "metadata": {
  "kernelspec": {
   "display_name": "Python 3",
   "language": "python",
   "name": "python3"
  },
  "language_info": {
   "codemirror_mode": {
    "name": "ipython",
    "version": 2
   },
   "file_extension": ".py",
   "mimetype": "text/x-python",
   "name": "python",
   "nbconvert_exporter": "python",
   "pygments_lexer": "ipython2",
   "version": "2.7.6"
  }
 },
 "nbformat": 4,
 "nbformat_minor": 0
}