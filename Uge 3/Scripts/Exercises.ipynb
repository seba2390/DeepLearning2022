{
 "cells": [
  {
   "cell_type": "code",
   "execution_count": 6,
   "outputs": [
    {
     "name": "stdout",
     "output_type": "stream",
     "text": [
      "Files already downloaded and verified\n"
     ]
    },
    {
     "data": {
      "text/plain": "Dataset CIFAR10\n    Number of datapoints: 50000\n    Root location: data\n    Split: Train"
     },
     "execution_count": 6,
     "metadata": {},
     "output_type": "execute_result"
    }
   ],
   "source": [
    "# Later in the exercise, you will have to download the CIFAR-10 data-set. It might take a while,\n",
    "# so it would be a good idea to run this cell to start downloading the data already now.\n",
    "import torchvision\n",
    "import torch as tc\n",
    "torchvision.datasets.CIFAR10(root='data', download=True)"
   ],
   "metadata": {
    "collapsed": false,
    "pycharm": {
     "name": "#%%\n"
    }
   }
  },
  {
   "cell_type": "markdown",
   "source": [
    "# Exercise 1:\n",
    "\n",
    "### Exercise 1.1: Convolve manually\n",
    "\n",
    "Perform the following calculations by hand, and write the result below. You decide if you want to make a convolution or correlation.\n",
    "\n",
    "\n",
    "<img src=\"https://nextcloud.theailab.dk/s/fCF7XZktJDwYA4C/download/inputKernel.jpg\" alt=\"Kernel\" style=\"width:300px;\"/>\n",
    "\n",
    "\n",
    "1. Manually convolve the input with the kernel, and write down the result. Use no padding and stride of 1.\n",
    "1. Perform $2\\times2$ max pooling on the output of the convolution. Use a stride of 2.\n",
    "\n",
    "**Answer:**\n",
    "\n",
    "\\begin{array}{|c|c|}\n",
    "\\hline\n",
    "     ~ & ~ \\\\\\hline\n",
    "     ~ & ~ \\\\\\hline\n",
    "\\end{array}\n",
    "\n",
    "\n"
   ],
   "metadata": {
    "collapsed": false,
    "pycharm": {
     "name": "#%% md\n"
    }
   }
  },
  {
   "cell_type": "code",
   "execution_count": 47,
   "outputs": [],
   "source": [
    "def pad(_input: tc.Tensor,\n",
    "        _pad_sizes: tuple) -> tc.Tensor:\n",
    "    h_pad, w_pad = _pad_sizes\n",
    "    assert 0 <= h_pad and 0 <= w_pad\n",
    "    h_in, w_in = _input.shape\n",
    "    _result = tc.zeros((h_in+2*h_pad,w_in+2*w_pad))\n",
    "    _result[h_pad:h_pad+h_in,w_pad:w_pad+w_in] = _input\n",
    "    return _result"
   ],
   "metadata": {
    "collapsed": false,
    "pycharm": {
     "name": "#%%\n"
    }
   }
  },
  {
   "cell_type": "code",
   "execution_count": 43,
   "outputs": [
    {
     "data": {
      "text/plain": "tensor([[0., 0., 0., 0., 0.],\n        [0., 1., 1., 1., 0.],\n        [0., 2., 1., 1., 0.],\n        [0., 3., 2., 2., 0.],\n        [0., 0., 0., 0., 0.]])"
     },
     "execution_count": 43,
     "metadata": {},
     "output_type": "execute_result"
    }
   ],
   "source": [
    "test = tc.tensor(data=[[1,1,1],\n",
    "                         [2,1,1],\n",
    "                         [3,2,2]],dtype=tc.float64)\n",
    "\n",
    "pads = (1,1)\n",
    "pad(test,pads)"
   ],
   "metadata": {
    "collapsed": false,
    "pycharm": {
     "name": "#%%\n"
    }
   }
  },
  {
   "cell_type": "code",
   "execution_count": 44,
   "outputs": [
    {
     "data": {
      "text/plain": "tensor([[21.,  9.],\n        [29., 20.]])"
     },
     "execution_count": 44,
     "metadata": {},
     "output_type": "execute_result"
    }
   ],
   "source": [
    "#### Note that: (h_out,w_out) = floor(((h_in,w_in)-(h_window,w_window))/(stride_h,stride_w)) + 1\n",
    "\n",
    "#### task 1) ####\n",
    "def correlation_2d(_input: tc.Tensor,\n",
    "                   _kernel: tc.Tensor,\n",
    "                   _stride: tuple) -> tc.Tensor:\n",
    "    row_stride, col_stride = _stride\n",
    "    assert 1 <= col_stride <= _input.shape[1] - _kernel.shape[1]\n",
    "    assert 1 <= row_stride <= _input.shape[0] - _kernel.shape[0]\n",
    "    assert _kernel.shape[0] < _input.shape[0] and _kernel.shape[1] < _input.shape[1]\n",
    "    \"\"\"Compute 2D cross-correlation.\"\"\"\n",
    "    h_win,w_win = _kernel.shape\n",
    "    h_in,w_in = _input.shape\n",
    "    stride_h,stride_w = _stride\n",
    "    _result = tc.zeros((int((h_in-h_win)/stride_h)+1,int((w_in-w_win)/stride_w)+1))\n",
    "    for i in range(_result.shape[0]):\n",
    "        for j in range(_result.shape[1]):\n",
    "            _result[i, j] = (_input[i*stride_h:i*stride_h+h_win, j*stride_w:j*stride_w+w_win] * _kernel).sum()\n",
    "    return _result\n",
    "\n",
    "Kernel = tc.tensor(data=[[0,0,0],\n",
    "                         [2,1,0],\n",
    "                         [3,2,2]],dtype=tc.float64)\n",
    "\n",
    "Input = tc.tensor(data=[[1,0,0,0],\n",
    "                        [3,0,0,0],\n",
    "                        [3,3,0,0],\n",
    "                        [4,2,2,2]],dtype=tc.float64)\n",
    "Stride = (1,1)\n",
    "correlation_2d(Input,Kernel,Stride)"
   ],
   "metadata": {
    "collapsed": false,
    "pycharm": {
     "name": "#%%\n"
    }
   }
  },
  {
   "cell_type": "code",
   "execution_count": 38,
   "outputs": [
    {
     "data": {
      "text/plain": "tensor([[3., 0.],\n        [4., 2.]])"
     },
     "execution_count": 38,
     "metadata": {},
     "output_type": "execute_result"
    }
   ],
   "source": [
    "#### task 2) ####\n",
    "def pooling_2d(_input: tc.Tensor,\n",
    "               _window_size: tuple,\n",
    "               _stride: tuple,\n",
    "               _pooling_func) -> tc.Tensor:\n",
    "    row_stride, col_stride = _stride\n",
    "    assert 1 <= col_stride <= _input.shape[1] - _window_size[1]\n",
    "    assert 1 <= row_stride <= _input.shape[0] - _window_size[0]\n",
    "    assert _window_size[0] <= _input.shape[0] and _window_size[1] <= _input.shape[1]\n",
    "    \"\"\"Compute 2D pooling.\"\"\"\n",
    "    h_win,w_win = _window_size\n",
    "    h_in,w_in = _input.shape\n",
    "    stride_h,stride_w = _stride\n",
    "    _result = tc.zeros((int((h_in-h_win)/stride_h)+1,int((w_in-w_win)/stride_w)+1))\n",
    "    for i in range(_result.shape[0]):\n",
    "        for j in range(_result.shape[1]):\n",
    "            _result[i, j] = _pooling_func(_input[i*stride_h:i*stride_h+h_win, j*stride_w:j*stride_w+w_win])\n",
    "    return _result\n",
    "\n",
    "\n",
    "window_size = (2,2)\n",
    "stride = (2,2)\n",
    "pooling_2d(Input,window_size,stride,tc.amax)"
   ],
   "metadata": {
    "collapsed": false,
    "pycharm": {
     "name": "#%%\n"
    }
   }
  },
  {
   "cell_type": "markdown",
   "source": [
    "\n",
    "### Exercise 1.2: Calculate output sizes of convolution output\n",
    "\n",
    "In the following list, you will be given a 3D tensor and some filters. Based on their sizes, calculate the size of the output (if valid). We will use PyTorch notation of dimensions. This means that dimensions are given as channel-first. I.e.: `(channel, height, width)`.\n",
    "\n",
    "The size of the 3D tensor input is givens as `(channel, height, width)`.\n",
    "A number `(channels_out)` of filters, have a size of `(channels_in, filter_height, filter_width)`, stride `(height, width)` and padding `(height, width)`.\n",
    "\n",
    "\n",
    "1. input tensor with dimensionality (1, 28, 28) and 16 filters of size (1, 5, 5) with stride (1, 1) and padding (0, 0)\n",
    "2. input tensor with dimensionality (3, 32, 32) and 24 filters of size (3, 3, 3) with stride (1, 1) and padding (0, 0)\n",
    "3. input tensor with dimensionality (40, 32, 32) and 3 filters of size (40, 2, 2) with stride (2, 2) and padding (0, 0)\n",
    "4. input tensor with dimensionality (11, 8, 16) and 7 filters of size (11, 3, 3) with stride (2, 2) and padding (1, 1)\n",
    "5. input tensor with dimensionality (128, 256, 256) and 112 filters of size (128, 3, 3) with stride (1, 1) and padding (1, 1)\n"
   ],
   "metadata": {
    "collapsed": false,
    "pycharm": {
     "name": "#%% md\n"
    }
   }
  },
  {
   "cell_type": "code",
   "execution_count": 51,
   "outputs": [
    {
     "name": "stdout",
     "output_type": "stream",
     "text": [
      "1:  (24, 24) for each input.\n",
      "2:  (24, 24) for each input.\n"
     ]
    }
   ],
   "source": [],
   "metadata": {
    "collapsed": false,
    "pycharm": {
     "name": "#%%\n"
    }
   }
  },
  {
   "cell_type": "code",
   "execution_count": null,
   "outputs": [],
   "source": [],
   "metadata": {
    "collapsed": false,
    "pycharm": {
     "name": "#%%\n"
    }
   }
  }
 ],
 "metadata": {
  "kernelspec": {
   "display_name": "Python 3",
   "language": "python",
   "name": "python3"
  },
  "language_info": {
   "codemirror_mode": {
    "name": "ipython",
    "version": 2
   },
   "file_extension": ".py",
   "mimetype": "text/x-python",
   "name": "python",
   "nbconvert_exporter": "python",
   "pygments_lexer": "ipython2",
   "version": "2.7.6"
  }
 },
 "nbformat": 4,
 "nbformat_minor": 0
}