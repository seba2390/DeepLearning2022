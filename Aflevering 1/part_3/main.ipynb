{
 "cells": [
  {
   "cell_type": "code",
   "execution_count": 1,
   "outputs": [],
   "source": [
    "import torch\n",
    "import torchvision.transforms as transforms\n",
    "from torch.utils.data import DataLoader\n",
    "import matplotlib.pyplot as plt\n",
    "from myDataSet import *\n",
    "from myNetworks import *\n",
    "from myUtil import *\n",
    "from tqdm import tqdm"
   ],
   "metadata": {
    "collapsed": false,
    "pycharm": {
     "name": "#%%\n"
    }
   }
  },
  {
   "cell_type": "code",
   "execution_count": 2,
   "outputs": [
    {
     "data": {
      "text/plain": "{'0': 0, '1': 1, '2': 2, '3': 3, '4': 4}"
     },
     "execution_count": 2,
     "metadata": {},
     "output_type": "execute_result"
    }
   ],
   "source": [
    "# Predefined dictionary to ensure same one-hot encoding for both train and test data.\n",
    "my_label_map = {}\n",
    "for i in range(5): my_label_map[str(i)] = i\n",
    "my_label_map"
   ],
   "metadata": {
    "collapsed": false,
    "pycharm": {
     "name": "#%%\n"
    }
   }
  },
  {
   "cell_type": "code",
   "execution_count": 3,
   "outputs": [
    {
     "name": "stdout",
     "output_type": "stream",
     "text": [
      "## Setting aside: 10.0 % for validation. ##\n",
      "  - Using batch size:  4\n",
      "  - Nr. training batches:  270\n",
      "  - Nr. validation batches:  30\n",
      "  - Nr. test batches:  75\n"
     ]
    }
   ],
   "source": [
    "# Loading all training data\n",
    "train_data_fname = \"trainData.txt\"\n",
    "_ = MyCustomDataset(filename=train_data_fname,\n",
    "                    skip_rows=0,\n",
    "                    label_col=0,\n",
    "                    feature_cols=(1,2),\n",
    "                    label_map=my_label_map)\n",
    "\n",
    "\n",
    "# Splitting into training and validation set\n",
    "validation_fraction = 0.1\n",
    "my_lengths = (_.__len__()-int(validation_fraction*_.__len__()),  int(validation_fraction*_.__len__()))\n",
    "training_data, validation_data = torch.utils.data.random_split(dataset=_,\n",
    "                                                               lengths=my_lengths)\n",
    "print(\"## Setting aside:\", validation_fraction*100, \"% for validation. ##\")\n",
    "\n",
    "# Loading test data\n",
    "test_data_fname = \"testData.txt\"\n",
    "test_data = MyCustomDataset(filename=test_data_fname,\n",
    "                            skip_rows=0,\n",
    "                            label_col=0,\n",
    "                            feature_cols=(1,2),\n",
    "                            label_map=my_label_map)\n",
    "\n",
    "# Utilizing torch 'dataloader' framework\n",
    "my_batch_size = 4\n",
    "train_dataloader = DataLoader(training_data, batch_size=my_batch_size, shuffle=True)\n",
    "test_dataloader = DataLoader(test_data, batch_size=my_batch_size, shuffle=True)\n",
    "validation_dataloader = DataLoader(validation_data, batch_size=my_batch_size, shuffle=True)\n",
    "print(\"  - Using batch size: \", my_batch_size)\n",
    "print(\"  - Nr. training batches: \", train_dataloader.__len__())\n",
    "print(\"  - Nr. validation batches: \", validation_dataloader.__len__())\n",
    "print(\"  - Nr. test batches: \", test_dataloader.__len__())"
   ],
   "metadata": {
    "collapsed": false,
    "pycharm": {
     "name": "#%%\n"
    }
   }
  },
  {
   "cell_type": "code",
   "execution_count": 4,
   "outputs": [],
   "source": [
    "# Creating instance of my neural net\n",
    "my_number_of_features = 2\n",
    "my_number_of_classes = 5\n",
    "my_net = NeuralNet(nr_classes=my_number_of_classes,\n",
    "                   nr_features=my_number_of_features)"
   ],
   "metadata": {
    "collapsed": false,
    "pycharm": {
     "name": "#%%\n"
    }
   }
  },
  {
   "cell_type": "code",
   "execution_count": null,
   "outputs": [
    {
     "name": "stderr",
     "output_type": "stream",
     "text": [
      " 26%|██▌       | 52/200 [00:05<00:15,  9.49it/s]"
     ]
    }
   ],
   "source": [
    "my_number_of_epochs = 200\n",
    "result = my_net.train_network(train_dataloader=train_dataloader,\n",
    "                              validation_dataloader=validation_dataloader,\n",
    "                              epochs=my_number_of_epochs,\n",
    "                              device_name='cpu')\n",
    "\n",
    "train_accuracies, train_losses, validation_accuracies, validation_losses = result"
   ],
   "metadata": {
    "collapsed": false,
    "pycharm": {
     "name": "#%%\n",
     "is_executing": true
    }
   }
  },
  {
   "cell_type": "code",
   "execution_count": null,
   "outputs": [],
   "source": [
    "fig, ax = plt.subplots(1,1,figsize=(7,4))\n",
    "epochs = [i for i in range(len(train_accuracies))]\n",
    "ax.plot(epochs,train_accuracies,label=\"train acc\")\n",
    "ax.plot(epochs,train_losses,label=\"train loss\")\n",
    "ax.plot(epochs,validation_accuracies,ls='--',label=\"validation acc\")\n",
    "ax.plot(epochs,validation_losses,label=\"test loss\")\n",
    "ax.set_ylim(-0.1,1.2)\n",
    "ax.set_xlim(-0.2,my_number_of_epochs+.2)\n",
    "ax.hlines(0,-0.2,my_number_of_epochs+.2,lw=4,color=\"k\")\n",
    "ax.set_xlabel(\"Epoch nr.\")\n",
    "ax.legend(loc=0)\n",
    "plt.show()"
   ],
   "metadata": {
    "collapsed": false,
    "pycharm": {
     "name": "#%%\n",
     "is_executing": true
    }
   }
  },
  {
   "cell_type": "code",
   "execution_count": null,
   "outputs": [],
   "source": [
    "test_model(trained_model=my_net,\n",
    "           data=test_dataloader,\n",
    "           verbose=False)"
   ],
   "metadata": {
    "collapsed": false,
    "pycharm": {
     "name": "#%%\n",
     "is_executing": true
    }
   }
  },
  {
   "cell_type": "code",
   "execution_count": null,
   "outputs": [],
   "source": [],
   "metadata": {
    "collapsed": false,
    "pycharm": {
     "name": "#%%\n",
     "is_executing": true
    }
   }
  }
 ],
 "metadata": {
  "kernelspec": {
   "display_name": "Python 3",
   "language": "python",
   "name": "python3"
  },
  "language_info": {
   "codemirror_mode": {
    "name": "ipython",
    "version": 2
   },
   "file_extension": ".py",
   "mimetype": "text/x-python",
   "name": "python",
   "nbconvert_exporter": "python",
   "pygments_lexer": "ipython2",
   "version": "2.7.6"
  }
 },
 "nbformat": 4,
 "nbformat_minor": 0
}