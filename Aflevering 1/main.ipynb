{
 "cells": [
  {
   "cell_type": "code",
   "execution_count": 7,
   "outputs": [],
   "source": [
    "import torch\n",
    "import torchvision.transforms as transforms\n",
    "import matplotlib.pyplot as plt\n",
    "from myDataSet import *\n",
    "from myNetworks import *\n",
    "from myUtil import *\n",
    "from tqdm import tqdm"
   ],
   "metadata": {
    "collapsed": false,
    "pycharm": {
     "name": "#%%\n"
    }
   }
  },
  {
   "cell_type": "code",
   "execution_count": 8,
   "outputs": [],
   "source": [
    "# TODO: Implement GPU memory alloc in case of CUDA\n",
    "# TODO: enable parallel GPU computation"
   ],
   "metadata": {
    "collapsed": false,
    "pycharm": {
     "name": "#%%\n"
    }
   }
  },
  {
   "cell_type": "code",
   "execution_count": 9,
   "outputs": [
    {
     "name": "stdout",
     "output_type": "stream",
     "text": [
      "Initial nr. of batches:  181\n",
      "Final nr. of batches:  12\n",
      "Shape of single batch:  torch.Size([4, 3, 520, 520])\n",
      "my_X_test_batches:  3\n"
     ]
    }
   ],
   "source": [
    "# Set up the dataset.\n",
    "image_directory = \"Insects\"\n",
    "annotations_file_directory = \"insects.csv\"\n",
    "image_dims = (520,520)\n",
    "dataset = MyCustomImageDataset(annotations_file_dir=annotations_file_directory,\n",
    "                               image_directory_path=image_directory,\n",
    "                               transform=torchvision.transforms.Resize(image_dims))\n",
    "\n",
    "# Preparing data for learning (normalization, one-hot encoding and batching)\n",
    "my_batch_size, my_data_fraction, my_test_fraction = 4, 0.07, 0.3\n",
    "prepped_data = DataPrep(dataset=dataset,\n",
    "                        batch_size=my_batch_size,\n",
    "                        data_fraction=my_data_fraction,\n",
    "                        test_fraction=my_test_fraction)\n",
    "prepped_data.prepare()\n",
    "my_X_train_batches, my_Y_train_batches = prepped_data.train_X, prepped_data.train_Y\n",
    "my_X_test_batches, my_Y_test_batches = prepped_data.test_X, prepped_data.test_Y\n",
    "print(\"Shape of single batch: \",my_X_train_batches[0].shape)\n",
    "print(\"my_X_test_batches: \", len(my_X_test_batches))"
   ],
   "metadata": {
    "collapsed": false,
    "pycharm": {
     "name": "#%%\n"
    }
   }
  },
  {
   "cell_type": "code",
   "execution_count": 10,
   "outputs": [],
   "source": [
    "# Creating instance of neural network\n",
    "my_nr_channels = my_X_train_batches[0].shape[1]\n",
    "my_nr_classes = my_Y_train_batches[0].shape[1]\n",
    "my_input_dimensions = (my_X_train_batches[0].shape[2], my_X_train_batches[0].shape[3])\n",
    "\n",
    "my_net = NeuralNet2(channels_in=my_nr_channels,\n",
    "                   nr_classes=my_nr_classes,\n",
    "                   input_dimensions=my_input_dimensions)"
   ],
   "metadata": {
    "collapsed": false,
    "pycharm": {
     "name": "#%%\n"
    }
   }
  },
  {
   "cell_type": "code",
   "execution_count": 11,
   "outputs": [
    {
     "name": "stderr",
     "output_type": "stream",
     "text": [
      " 17%|█▋        | 1/6 [00:08<00:44,  8.99s/it]"
     ]
    },
    {
     "name": "stdout",
     "output_type": "stream",
     "text": [
      "Model saved at epoch:  1 , with test acc:  13.88888955116272 %\n"
     ]
    },
    {
     "name": "stderr",
     "output_type": "stream",
     "text": [
      " 33%|███▎      | 2/6 [00:17<00:35,  8.87s/it]"
     ]
    },
    {
     "name": "stdout",
     "output_type": "stream",
     "text": [
      "Model saved at epoch:  2 , with test acc:  30.55555522441864 %\n"
     ]
    },
    {
     "name": "stderr",
     "output_type": "stream",
     "text": [
      "100%|██████████| 6/6 [00:53<00:00,  8.87s/it]\n"
     ]
    }
   ],
   "source": [
    "train_accuracies, train_losses, test_accuracies, test_losses = my_net.train_network(\n",
    "                                                        train_data_batches=my_X_train_batches,\n",
    "                                                      train_labels_batches=my_Y_train_batches,\n",
    "                                                         test_data_batches=my_X_test_batches,\n",
    "                                                       test_labels_batches=my_Y_test_batches,\n",
    "                                                                    epochs=6,\n",
    "                                                               device_name='cpu')"
   ],
   "metadata": {
    "collapsed": false,
    "pycharm": {
     "name": "#%%\n"
    }
   }
  },
  {
   "cell_type": "code",
   "execution_count": 12,
   "outputs": [
    {
     "data": {
      "text/plain": "<Figure size 600x400 with 1 Axes>",
      "image/png": "[encoded data removed]"
     },
     "metadata": {},
     "output_type": "display_data"
    }
   ],
   "source": [
    "fig, ax = plt.subplots(1,1,figsize=(6,4))\n",
    "epochs = [i+1 for i in range(len(train_accuracies))]\n",
    "ax.plot(epochs,train_accuracies,label=\"train acc\")\n",
    "#ax.plot(epochs,train_losses,label=\"train loss\")\n",
    "ax.plot(epochs,test_accuracies,label=\"test acc\")\n",
    "#ax.plot(epochs,test_losses,label=\"test loss\")\n",
    "ax.set_ylim(-0.1,1.2)\n",
    "ax.set_xlabel(\"Epoch nr.\")\n",
    "ax.legend()\n",
    "plt.show()"
   ],
   "metadata": {
    "collapsed": false,
    "pycharm": {
     "name": "#%%\n"
    }
   }
  },
  {
   "cell_type": "code",
   "execution_count": 10,
   "outputs": [
    {
     "name": "stdout",
     "output_type": "stream",
     "text": [
      "\n",
      " ---  Random Batch:  1  ---\n",
      "  ##| Prediction:  Lasioglossum punctatissimum  |--| Actual:  Lasioglossum punctatissimum  |##\n",
      "  ##| Prediction:  Panurgus banksianus  |--| Actual:  Panurgus banksianus  |##\n",
      "  ##| Prediction:  Lasioglossum punctatissimum  |--| Actual:  Lasioglossum punctatissimum  |##\n",
      "  ##| Prediction:  Panurgus banksianus  |--| Actual:  Panurgus banksianus  |##\n",
      "\n",
      " ---  Random Batch:  2  ---\n",
      "  ##| Prediction:  Andrena fulva  |--| Actual:  Andrena fulva  |##\n",
      "  ##| Prediction:  Andrena fulva  |--| Actual:  Andrena fulva  |##\n",
      "  ##| Prediction:  Lasioglossum punctatissimum  |--| Actual:  Lasioglossum punctatissimum  |##\n",
      "  ##| Prediction:  Lasioglossum punctatissimum  |--| Actual:  Lasioglossum punctatissimum  |##\n",
      "\n",
      " ---  Random Batch:  3  ---\n",
      "  ##| Prediction:  Lasioglossum punctatissimum  |--| Actual:  Lasioglossum punctatissimum  |##\n",
      "  ##| Prediction:  Andrena fulva  |--| Actual:  Panurgus banksianus  |##\n",
      "  ##| Prediction:  Andrena fulva  |--| Actual:  Andrena fulva  |##\n",
      "  ##| Prediction:  Panurgus banksianus  |--| Actual:  Panurgus banksianus  |##\n",
      "\n",
      " #####|  11 / 12  predicted correctly |#####\n"
     ]
    }
   ],
   "source": [
    "test_model(my_net,prepped_data,3)"
   ],
   "metadata": {
    "collapsed": false,
    "pycharm": {
     "name": "#%%\n"
    }
   }
  }
 ],
 "metadata": {
  "kernelspec": {
   "display_name": "Python 3",
   "language": "python",
   "name": "python3"
  },
  "language_info": {
   "codemirror_mode": {
    "name": "ipython",
    "version": 2
   },
   "file_extension": ".py",
   "mimetype": "text/x-python",
   "name": "python",
   "nbconvert_exporter": "python",
   "pygments_lexer": "ipython2",
   "version": "2.7.6"
  }
 },
 "nbformat": 4,
 "nbformat_minor": 0
}