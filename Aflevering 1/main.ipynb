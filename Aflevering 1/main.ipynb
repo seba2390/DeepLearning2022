{
 "cells": [
  {
   "cell_type": "code",
   "execution_count": 171,
   "outputs": [],
   "source": [
    "import torch\n",
    "import torchvision.transforms as transforms\n",
    "import matplotlib.pyplot as plt\n",
    "from myDataSet import *\n",
    "from tqdm import tqdm"
   ],
   "metadata": {
    "collapsed": false,
    "pycharm": {
     "name": "#%%\n"
    }
   }
  },
  {
   "cell_type": "code",
   "execution_count": 172,
   "outputs": [],
   "source": [
    "def batch_data(data: torch.Tensor,\n",
    "               labels: torch.Tensor,\n",
    "               batch_size: int,\n",
    "               randomize: bool = False) -> tuple[list[torch.Tensor],list[torch.Tensor]]:\n",
    "    \"\"\"\n",
    "    Takes the input data, shuffles it randomly and repacks it in batches of\n",
    "    'batch_size'. If len(labels) % batch_size != 0, the final number of\n",
    "    batches is rounded down.\n",
    "\n",
    "     Parameters:\n",
    "    - data: A torch Tensor of shape (nr. data points, nr. channels, height, width).\n",
    "    - labels: Either tuple, list or 1d numpy array containing the labels for the data.\n",
    "    - batch_size: The number of data points contained within each batch.\n",
    "    - randomize: A boolean determining whether the data is randomly shuffled.\n",
    "\n",
    "     Returns:\n",
    "    - batches: A tuple of (X_batches, Y_batches)\n",
    "    \"\"\"\n",
    "    assert type(data) is torch.Tensor and len(data.shape) == 4\n",
    "    assert type(labels) is torch.Tensor and len(labels.shape) == 2\n",
    "\n",
    "    _indices = [i for i in range(len(labels))]\n",
    "    if randomize:\n",
    "        _indices = torch.randperm(len(_indices))\n",
    "        _indices = _indices.tolist()\n",
    "\n",
    "    _X_batches, _Y_batches = [], []\n",
    "    for _batch in range(len(labels) // batch_size):\n",
    "        _i= _indices[batch_size*_batch : batch_size*(_batch+1)]\n",
    "        _X_batches.append(data[_i,::])\n",
    "        _Y_batches.append(labels[_i,::])\n",
    "\n",
    "    batches = _X_batches, _Y_batches\n",
    "    return batches\n",
    "\n",
    "def one_hot(labels: tuple | list) -> torch.Tensor:\n",
    "    \"\"\"\n",
    "    Creates a one-hot encoding of given labels.\n",
    "\n",
    "     Parameters:\n",
    "    - labels: tuple or list containing labels.\n",
    "\n",
    "     Returns:\n",
    "    - one_hot_Y: 2D torch Tensor of shape (nr. data points, nr. classes).\n",
    "    \"\"\"\n",
    "    assert type(labels) is tuple or type(labels) is list, f'Unrecognized labels type: should be tuple or list.'\n",
    "    # Creating map from label to integer\n",
    "    label_dict = {}\n",
    "    for class_idx, label in enumerate(set(labels)):\n",
    "        label_dict[label] = class_idx\n",
    "    # Calculating Number of data points x Nr of classes one-hot encoding of Y\n",
    "    nr_labels = len(list(labels))\n",
    "    nr_unique_labels = len(list(label_dict.keys()))\n",
    "    one_hot_Y = torch.zeros(size=(nr_labels, nr_unique_labels))\n",
    "    for i, label in enumerate(labels):\n",
    "        one_hot_Y[i][label_dict[label]] = 1\n",
    "    return one_hot_Y\n",
    "\n",
    "def normalize_pixels(data: torch.Tensor) -> None:\n",
    "    \"\"\"\n",
    "    Void type function normalizing every value: (0,255) -> (0,1), in input tensor.\n",
    "\n",
    "     Parameters:\n",
    "    - data: 4D torch tensor of data of shape (nr. datapoints, nr. channels, height, width)\n",
    "\n",
    "    \"\"\"\n",
    "    _PIXEL_MAX = 255\n",
    "    for data_point in range(data.shape[0]):\n",
    "        data[data_point] *= 1.0/_PIXEL_MAX\n",
    "\n",
    "def accuracy(y_hat: torch.Tensor,\n",
    "             y_actual: torch.Tensor) -> float:\n",
    "    \"\"\"\n",
    "    Function for calculating the accuracy of 'y_hat' against 'y_actual'\n",
    "    in terms of: nr. agreements / nr. comparisons.\n",
    "\n",
    "     Parameters:\n",
    "    - y_hat: 2D torch tensor of shape (nr. datapoints, nr. classes) only containing 1 and 0.\n",
    "    - y_actual: 2D torch tensor of shape (nr. datapoints, nr. classes) only containing 1 and 0.\n",
    "\n",
    "     Returns:\n",
    "    - _accuracy: float in range (0,1).\n",
    "    \"\"\"\n",
    "    assert y_hat.shape == y_actual.shape, f'Inputs are not of matching shapes.'\n",
    "    _nr_equals = torch.sum(y_hat*y_actual)\n",
    "    _accuracy = _nr_equals/y_hat.shape[0]\n",
    "    return _accuracy"
   ],
   "metadata": {
    "collapsed": false,
    "pycharm": {
     "name": "#%%\n"
    }
   }
  },
  {
   "cell_type": "code",
   "execution_count": 173,
   "outputs": [],
   "source": [
    "class NeuralNet(torch.nn.Module):\n",
    "\n",
    "    def __init__(self, channels_in: int,\n",
    "                        nr_classes: int,\n",
    "                 input_dimensions: tuple[int,int]) -> None:\n",
    "        super(NeuralNet, self).__init__()\n",
    "        self.input_dim = input_dimensions\n",
    "        self.nr_classes = nr_classes\n",
    "\n",
    "        # layer 1: convolutional layer\n",
    "        self.conv1 = torch.nn.Conv2d(in_channels=channels_in,\n",
    "                                    out_channels=6,\n",
    "                                     kernel_size=(5,5),\n",
    "                                          stride=(1,1),\n",
    "                                         padding=(0,0))\n",
    "        # activation function\n",
    "        self.activation1 = torch.nn.ReLU()\n",
    "        object_dim1 = self.output_dim(self.input_dim,\n",
    "                                      self.conv1.kernel_size,\n",
    "                                      self.conv1.stride,\n",
    "                                      self.conv1.padding)\n",
    "        #--------------------------------------#\n",
    "\n",
    "        # layer 2: pooling layer\n",
    "        self.pool1 = torch.nn.AvgPool2d(kernel_size=(2,2),\n",
    "                                             stride=(1,1),\n",
    "                                             padding=(0,0))\n",
    "\n",
    "        object_dim2 = self.output_dim(object_dim1,\n",
    "                                      self.pool1.kernel_size,\n",
    "                                      self.pool1.stride,\n",
    "                                      self.pool1.padding)\n",
    "\n",
    "        #--------------------------------------#\n",
    "\n",
    "        # layer 3: convolutional layer\n",
    "        self.conv2 = torch.nn.Conv2d(in_channels=6,\n",
    "                                    out_channels=16,\n",
    "                                     kernel_size=5,\n",
    "                                          stride=(1,1),\n",
    "                                         padding=(0,0))\n",
    "        # activation function\n",
    "        self.activation2 = torch.nn.ReLU()\n",
    "        object_dim3 = self.output_dim(object_dim2,\n",
    "                                      self.conv2.kernel_size,\n",
    "                                      self.conv2.stride,\n",
    "                                      self.conv2.padding)\n",
    "        #--------------------------------------#\n",
    "\n",
    "        # layer 4: pooling layer\n",
    "        self.pool2 = torch.nn.AvgPool2d(kernel_size=(2,2),\n",
    "                                             stride=(1,1),\n",
    "                                             padding=(0,0))\n",
    "\n",
    "        object_dim4 = self.output_dim(object_dim3,\n",
    "                                      self.pool2.kernel_size,\n",
    "                                      self.pool2.stride,\n",
    "                                      self.pool2.padding)\n",
    "        # flattening\n",
    "        self.flatten = torch.nn.Flatten(start_dim=1,end_dim=-1)\n",
    "\n",
    "        #--------------------------------------#\n",
    "\n",
    "        # layer 5: fully connected layer (lazy means input dim is automatically inferred)\n",
    "        in_vector_length = self.conv2.out_channels*object_dim4[0]*object_dim4[1]\n",
    "        self.lin1 = torch.nn.Linear(in_features=in_vector_length,\n",
    "                                    out_features=120)\n",
    "\n",
    "        # activation function\n",
    "        self.activation3 = torch.nn.ReLU()\n",
    "\n",
    "        #--------------------------------------#\n",
    "\n",
    "        # layer 6: fully connected layer (lazy means input dim is automatically inferred)\n",
    "        self.lin2 = torch.nn.Linear(in_features=self.lin1.out_features,\n",
    "                                    out_features=self.nr_classes)\n",
    "\n",
    "\n",
    "    @staticmethod\n",
    "    def output_dim(data_size: tuple[int, int],\n",
    "                   kernel_size: tuple[int, int],\n",
    "                   stride_size: tuple[int, int] = (1,1),\n",
    "                   padding_size: tuple[int, int] = (0,0)) -> tuple[int, int]:\n",
    "        \"\"\"\n",
    "        Calculates output shape of array after convolution w. specific\n",
    "        kernel, padding and stride.\n",
    "\n",
    "         Parameters:\n",
    "        - data_size: tuple containing dimension of 2D input array.\n",
    "        - kernel_size: tuple containing dimension of 2D kernel.\n",
    "        - stride_size: tuple containing dimension of 2D stride.\n",
    "        - padding_size: tuple containing dimension of 2D padding.\n",
    "\n",
    "         Returns:\n",
    "        - output_dimensions: tuple containing dimension of resulting 2D array.\n",
    "        \"\"\"\n",
    "\n",
    "        out_height = ((data_size[0] - kernel_size[0] + 2 * padding_size[0]) // stride_size[0]) + 1\n",
    "        out_width = ((data_size[1] - kernel_size[1] + 2 * padding_size[1]) // stride_size[1]) + 1\n",
    "\n",
    "        output_dimensions = (out_height, out_width)\n",
    "        return output_dimensions\n",
    "\n",
    "    def predict(self, forwarded_data:torch.Tensor) -> torch.Tensor:\n",
    "        \"\"\"\n",
    "        Takes the raw estimate from a forward pass (nr. data points, nr. classes)\n",
    "        and sets the highest val in each row 1 and the rest zero.\n",
    "\n",
    "         Parameters:\n",
    "        - forwarded_data: torch.Tensor of shape (nr. data points, nr. classes)\n",
    "\n",
    "         Returns:\n",
    "        - _prediction: torc.Tensor of shape (nr. data points, nr. classes)\n",
    "\n",
    "        \"\"\"\n",
    "        assert forwarded_data.shape[1] == self.nr_classes, f'Forwarded data should be of shape (nr. data points, nr. classes).'\n",
    "        assert len(forwarded_data.shape) == 2, f' Forwarded data should be a 2D tensor.'\n",
    "        _prediction = torch.zeros(size=forwarded_data.shape)\n",
    "        _prediction[:,torch.argmax(forwarded_data,dim=1)] = 1\n",
    "        return _prediction\n",
    "\n",
    "    def forward(self, data):\n",
    "        assert len(data.shape) == 4, f'Shape of X should be (nr. data points, nr. channels, height, width)'\n",
    "        data = self.conv1(data)\n",
    "        data = self.activation1(data)\n",
    "        data = self.pool1(data)\n",
    "        data = self.conv2(data)\n",
    "        data = self.activation2(data)\n",
    "        data = self.pool2(data)\n",
    "        data = self.flatten(data)\n",
    "        data = self.lin1(data)\n",
    "        data = self.activation3(data)\n",
    "        data = self.lin2(data)\n",
    "        return data\n",
    "\n",
    "\n",
    "def train(model: NeuralNet,\n",
    "          data_batches: list[torch.Tensor],\n",
    "          labels_batches: list[torch.Tensor],\n",
    "          epochs: int = 10) -> tuple[list,list]:\n",
    "\n",
    "\n",
    "    _optimizer = torch.optim.SGD(params=model.parameters(),\n",
    "                                 lr=0.001,\n",
    "                                 momentum=0.9)\n",
    "\n",
    "    _loss_function = torch.nn.CrossEntropyLoss()\n",
    "\n",
    "    _accuracies = []\n",
    "    _losses = []\n",
    "    for epoch in tqdm(range(epochs)):\n",
    "        _counter = 0\n",
    "        _batch_acc = 0\n",
    "        _batch_loss = 0\n",
    "        #print(\"Epoch: \", epoch)\n",
    "        for x_batch, y_batch in zip(data_batches,labels_batches):\n",
    "        #    print(\"--batch--\")\n",
    "\n",
    "            # Ensure that parameter gradients are 0.\n",
    "            _optimizer.zero_grad()\n",
    "\n",
    "            # Forward pass\n",
    "            _y_hat = model.forward(x_batch)\n",
    "            assert _y_hat.shape[0] == labels_batches[0].shape[0]\n",
    "            assert _y_hat.shape[1] == model.nr_classes\n",
    "\n",
    "            # Loss calculation + backprop + optimization\n",
    "            _loss = _loss_function(_y_hat,y_batch)\n",
    "            _loss.backward()\n",
    "            _optimizer.step()\n",
    "\n",
    "            _batch_acc += accuracy(model.predict(_y_hat),y_batch).item()\n",
    "            _batch_loss += _loss.item()\n",
    "            _counter += 1\n",
    "\n",
    "        _accuracies.append(_batch_acc/_counter)\n",
    "        _losses.append(_batch_loss/_counter)\n",
    "\n",
    "    return _accuracies, _losses\n",
    "\n"
   ],
   "metadata": {
    "collapsed": false,
    "pycharm": {
     "name": "#%%\n"
    }
   }
  },
  {
   "cell_type": "code",
   "execution_count": 174,
   "outputs": [
    {
     "name": "stdout",
     "output_type": "stream",
     "text": [
      "torch.Size([724, 3, 520, 520]) , 724\n"
     ]
    }
   ],
   "source": [
    "# Set up the dataset.\n",
    "image_directory = \"Insects\"\n",
    "annotations_file_directory = \"insects.csv\"\n",
    "dataset = MyCustomImageDataset(annotations_file_directory, image_directory)\n",
    "\n",
    "# Loading entire dataset\n",
    "X, Y = dataset.X, list(dataset.Y)\n",
    "X = X.to(torch.float32) # Network is expecting input of floating type digits\n",
    "print(X.shape,\",\",len(Y))"
   ],
   "metadata": {
    "collapsed": false,
    "pycharm": {
     "name": "#%%\n"
    }
   }
  },
  {
   "cell_type": "code",
   "execution_count": 175,
   "outputs": [],
   "source": [
    "# One-hot encoding labels\n",
    "Y = one_hot(Y)"
   ],
   "metadata": {
    "collapsed": false,
    "pycharm": {
     "name": "#%%\n"
    }
   }
  },
  {
   "cell_type": "code",
   "execution_count": 176,
   "outputs": [],
   "source": [
    "# Normalizing X-data\n",
    "normalize_pixels(X)"
   ],
   "metadata": {
    "collapsed": false,
    "pycharm": {
     "name": "#%%\n"
    }
   }
  },
  {
   "cell_type": "code",
   "execution_count": 177,
   "outputs": [
    {
     "name": "stdout",
     "output_type": "stream",
     "text": [
      "Initial nr. of batches:  362\n",
      "Final nr. of batches:  2\n"
     ]
    }
   ],
   "source": [
    "# Batching entire dataset into batches of 'my_batch_size'\n",
    "my_batch_size = 2\n",
    "my_X_batches, my_Y_batches = batch_data(data=X,\n",
    "                                        labels=Y,\n",
    "                                        batch_size=my_batch_size,\n",
    "                                        randomize=True)\n",
    "print(\"Initial nr. of batches: \", len(my_X_batches))\n",
    "\n",
    "# Picking out 'my_fraction' part of total data\n",
    "my_fraction = 0.008\n",
    "my_X_batches = my_X_batches[:int(my_fraction*len(my_X_batches))]\n",
    "my_Y_batches = my_Y_batches[:int(my_fraction*len(my_Y_batches))]\n",
    "print(\"Final nr. of batches: \", len(my_X_batches))"
   ],
   "metadata": {
    "collapsed": false,
    "pycharm": {
     "name": "#%%\n"
    }
   }
  },
  {
   "cell_type": "code",
   "execution_count": 178,
   "outputs": [],
   "source": [
    "# Creating instance of neural network\n",
    "my_nr_channels = my_X_batches[0].shape[1]\n",
    "my_nr_classes = 3\n",
    "my_input_dimensions = (my_X_batches[0].shape[2], my_X_batches[0].shape[3])\n",
    "\n",
    "my_net = NeuralNet(channels_in=my_nr_channels,\n",
    "                   nr_classes=my_nr_classes,\n",
    "                   input_dimensions=my_input_dimensions)"
   ],
   "metadata": {
    "collapsed": false,
    "pycharm": {
     "name": "#%%\n"
    }
   }
  },
  {
   "cell_type": "code",
   "execution_count": 179,
   "outputs": [
    {
     "name": "stderr",
     "output_type": "stream",
     "text": [
      "100%|██████████| 20/20 [01:00<00:00,  3.02s/it]\n"
     ]
    }
   ],
   "source": [
    "accuracies, losses = train(model=my_net,\n",
    "                    data_batches=my_X_batches,\n",
    "                  labels_batches=my_Y_batches,\n",
    "                          epochs=20)"
   ],
   "metadata": {
    "collapsed": false,
    "pycharm": {
     "name": "#%%\n"
    }
   }
  },
  {
   "cell_type": "code",
   "execution_count": 181,
   "outputs": [
    {
     "data": {
      "text/plain": "<Figure size 600x400 with 1 Axes>",
      "image/png": "[encoded data removed]"
     },
     "metadata": {},
     "output_type": "display_data"
    }
   ],
   "source": [
    "fig, ax = plt.subplots(1,1,figsize=(6,4))\n",
    "epochs = [i+1 for i in range(len(accuracies))]\n",
    "ax.plot(epochs,accuracies,label=\"acc\")\n",
    "ax.plot(epochs,losses,label=\"loss\")\n",
    "ax.set_xlabel(\"Epoch nr.\")\n",
    "ax.legend()\n",
    "plt.show()"
   ],
   "metadata": {
    "collapsed": false,
    "pycharm": {
     "name": "#%%\n"
    }
   }
  },
  {
   "cell_type": "code",
   "execution_count": 180,
   "outputs": [],
   "source": [],
   "metadata": {
    "collapsed": false,
    "pycharm": {
     "name": "#%%\n"
    }
   }
  },
  {
   "cell_type": "code",
   "execution_count": 180,
   "outputs": [],
   "source": [],
   "metadata": {
    "collapsed": false,
    "pycharm": {
     "name": "#%%\n"
    }
   }
  }
 ],
 "metadata": {
  "kernelspec": {
   "display_name": "Python 3",
   "language": "python",
   "name": "python3"
  },
  "language_info": {
   "codemirror_mode": {
    "name": "ipython",
    "version": 2
   },
   "file_extension": ".py",
   "mimetype": "text/x-python",
   "name": "python",
   "nbconvert_exporter": "python",
   "pygments_lexer": "ipython2",
   "version": "2.7.6"
  }
 },
 "nbformat": 4,
 "nbformat_minor": 0
}