{
 "cells": [
  {
   "cell_type": "code",
   "execution_count": 1,
   "metadata": {
    "collapsed": false,
    "jupyter": {
     "outputs_hidden": false
    },
    "pycharm": {
     "name": "#%%\n"
    }
   },
   "outputs": [],
   "source": [
    "import torch\n",
    "import torchvision.transforms as transforms\n",
    "import matplotlib.pyplot as plt\n",
    "from myDataSet import *\n",
    "from myNetworks import *\n",
    "from myUtil import *\n",
    "from tqdm import tqdm"
   ]
  },
  {
   "cell_type": "code",
   "execution_count": 2,
   "metadata": {
    "collapsed": false,
    "jupyter": {
     "outputs_hidden": false
    },
    "pycharm": {
     "name": "#%%\n"
    }
   },
   "outputs": [],
   "source": [
    "# TODO: Implement GPU memory alloc in case of CUDA\n",
    "# TODO: enable parallel GPU computation"
   ]
  },
  {
   "cell_type": "code",
   "execution_count": 6,
   "metadata": {
    "collapsed": false,
    "jupyter": {
     "outputs_hidden": false
    },
    "pycharm": {
     "is_executing": true,
     "name": "#%%\n"
    }
   },
   "outputs": [
    {
     "name": "stdout",
     "output_type": "stream",
     "text": [
      "Initial nr. of batches:  181\n",
      "Nr. batches after 'data_fraction' splitting:  181\n",
      "Nr. batches set aside for testing:  36\n",
      "Nr. batches set aside for validation:  29\n",
      "Nr. batches remaining for training:  116\n",
      "Shape of single X batch:  (4, 3, 520, 520)\n"
     ]
    }
   ],
   "source": [
    "# Set up the dataset.\n",
    "image_directory = \"Insects\"\n",
    "annotations_file_directory = \"insects.csv\"\n",
    "image_dims = (520,520)\n",
    "my_transform = torchvision.transforms.Resize(image_dims)\n",
    "dataset = MyCustomImageDataset(annotations_file_dir=annotations_file_directory,\n",
    "                               image_directory_path=image_directory,\n",
    "                               transform=my_transform)\n",
    "\n",
    "# Preparing data for learning (normalization, one-hot encoding and batching)\n",
    "my_batch_size, my_data_fraction, my_test_fraction, my_validation_fraction = 4, 1, 0.2, 0.3\n",
    "prepped_data = DataPrep(dataset=dataset,\n",
    "                        batch_size=my_batch_size,\n",
    "                        data_fraction=my_data_fraction,\n",
    "                        test_fraction=my_test_fraction,\n",
    "                        validation_fraction=my_validation_fraction)\n",
    "\n",
    "my_X_train_batches, my_Y_train_batches = prepped_data.train_X, prepped_data.train_Y\n",
    "my_X_validation_batches, my_Y_validation_batches = prepped_data.validation_X, prepped_data.validation_Y\n",
    "print(\"Shape of single X batch: \",tuple(my_X_train_batches[0].shape))"
   ]
  },
  {
   "cell_type": "code",
   "execution_count": 7,
   "metadata": {
    "collapsed": false,
    "jupyter": {
     "outputs_hidden": false
    },
    "pycharm": {
     "is_executing": true,
     "name": "#%%\n"
    }
   },
   "outputs": [],
   "source": [
    "# Creating instance of neural network\n",
    "my_nr_channels = my_X_train_batches[0].shape[1]\n",
    "my_nr_classes = my_Y_train_batches[0].shape[1]\n",
    "my_input_dimensions = (my_X_train_batches[0].shape[2], my_X_train_batches[0].shape[3])\n",
    "\n",
    "my_net = NeuralNet2(channels_in=my_nr_channels,\n",
    "                   nr_classes=my_nr_classes,\n",
    "                   input_dimensions=my_input_dimensions)"
   ]
  },
  {
   "cell_type": "code",
   "execution_count": 8,
   "metadata": {
    "collapsed": false,
    "jupyter": {
     "outputs_hidden": false
    },
    "pycharm": {
     "is_executing": true,
     "name": "#%%\n"
    }
   },
   "outputs": [
    {
     "name": "stdout",
     "output_type": "stream",
     "text": [
      "Current torch cuda version:  11.6\n",
      "Cuda devices found by torch:  2\n",
      "Current cuda device to be used by torch:  0\n",
      "Name of cuda device:  NVIDIA GeForce RTX 3060\n",
      "Total memory in cuda device:  12637.110272 MB\n",
      "Total memory reserved in cuda device:  3623.878656 MB\n",
      "Total memory allocated in cuda device:  1976.126976 MB\n",
      "Total remaining memory in cuda device::  9013.231616 MB\n"
     ]
    },
    {
     "name": "stderr",
     "output_type": "stream",
     "text": [
      "  3%|▎         | 1/30 [00:07<03:24,  7.05s/it]"
     ]
    },
    {
     "name": "stdout",
     "output_type": "stream",
     "text": [
      "Model saved at epoch:  1 , with validation acc:  45.689655172413794 %\n"
     ]
    },
    {
     "name": "stderr",
     "output_type": "stream",
     "text": [
      "  7%|▋         | 2/30 [00:14<03:17,  7.05s/it]"
     ]
    },
    {
     "name": "stdout",
     "output_type": "stream",
     "text": [
      "Model saved at epoch:  2 , with validation acc:  47.41379310344828 %\n"
     ]
    },
    {
     "name": "stderr",
     "output_type": "stream",
     "text": [
      " 10%|█         | 3/30 [00:21<03:10,  7.07s/it]"
     ]
    },
    {
     "name": "stdout",
     "output_type": "stream",
     "text": [
      "Model saved at epoch:  3 , with validation acc:  51.724137931034484 %\n"
     ]
    },
    {
     "name": "stderr",
     "output_type": "stream",
     "text": [
      " 13%|█▎        | 4/30 [00:28<03:03,  7.07s/it]"
     ]
    },
    {
     "name": "stdout",
     "output_type": "stream",
     "text": [
      "Model saved at epoch:  4 , with validation acc:  54.310344827586206 %\n"
     ]
    },
    {
     "name": "stderr",
     "output_type": "stream",
     "text": [
      " 17%|█▋        | 5/30 [00:35<02:56,  7.08s/it]"
     ]
    },
    {
     "name": "stdout",
     "output_type": "stream",
     "text": [
      "Model saved at epoch:  5 , with validation acc:  56.896551724137936 %\n"
     ]
    },
    {
     "name": "stderr",
     "output_type": "stream",
     "text": [
      " 20%|██        | 6/30 [00:42<02:49,  7.08s/it]"
     ]
    },
    {
     "name": "stdout",
     "output_type": "stream",
     "text": [
      "Model saved at epoch:  6 , with validation acc:  63.793103448275865 %\n"
     ]
    },
    {
     "name": "stderr",
     "output_type": "stream",
     "text": [
      " 23%|██▎       | 7/30 [00:49<02:42,  7.08s/it]"
     ]
    },
    {
     "name": "stdout",
     "output_type": "stream",
     "text": [
      "Model saved at epoch:  7 , with validation acc:  69.82758620689656 %\n"
     ]
    },
    {
     "name": "stderr",
     "output_type": "stream",
     "text": [
      " 27%|██▋       | 8/30 [00:56<02:35,  7.08s/it]"
     ]
    },
    {
     "name": "stdout",
     "output_type": "stream",
     "text": [
      "Model saved at epoch:  8 , with validation acc:  79.3103448275862 %\n"
     ]
    },
    {
     "name": "stderr",
     "output_type": "stream",
     "text": [
      " 30%|███       | 9/30 [01:03<02:28,  7.08s/it]"
     ]
    },
    {
     "name": "stdout",
     "output_type": "stream",
     "text": [
      "Model saved at epoch:  9 , with validation acc:  81.89655172413794 %\n"
     ]
    },
    {
     "name": "stderr",
     "output_type": "stream",
     "text": [
      " 33%|███▎      | 10/30 [01:10<02:21,  7.08s/it]"
     ]
    },
    {
     "name": "stdout",
     "output_type": "stream",
     "text": [
      "Model saved at epoch:  10 , with validation acc:  83.62068965517241 %\n"
     ]
    },
    {
     "name": "stderr",
     "output_type": "stream",
     "text": [
      " 37%|███▋      | 11/30 [01:17<02:14,  7.08s/it]"
     ]
    },
    {
     "name": "stdout",
     "output_type": "stream",
     "text": [
      "Model saved at epoch:  11 , with validation acc:  85.34482758620689 %\n"
     ]
    },
    {
     "name": "stderr",
     "output_type": "stream",
     "text": [
      " 40%|████      | 12/30 [01:24<02:07,  7.08s/it]"
     ]
    },
    {
     "name": "stdout",
     "output_type": "stream",
     "text": [
      "Model saved at epoch:  12 , with validation acc:  86.20689655172413 %\n"
     ]
    },
    {
     "name": "stderr",
     "output_type": "stream",
     "text": [
      " 43%|████▎     | 13/30 [01:31<02:00,  7.08s/it]"
     ]
    },
    {
     "name": "stdout",
     "output_type": "stream",
     "text": [
      "Model saved at epoch:  13 , with validation acc:  87.06896551724138 %\n"
     ]
    },
    {
     "name": "stderr",
     "output_type": "stream",
     "text": [
      " 50%|█████     | 15/30 [01:46<01:46,  7.07s/it]"
     ]
    },
    {
     "name": "stdout",
     "output_type": "stream",
     "text": [
      "Model saved at epoch:  15 , with validation acc:  87.93103448275862 %\n"
     ]
    },
    {
     "name": "stderr",
     "output_type": "stream",
     "text": [
      " 53%|█████▎    | 16/30 [01:53<01:39,  7.08s/it]"
     ]
    },
    {
     "name": "stdout",
     "output_type": "stream",
     "text": [
      "Model saved at epoch:  16 , with validation acc:  88.79310344827587 %\n"
     ]
    },
    {
     "name": "stderr",
     "output_type": "stream",
     "text": [
      " 70%|███████   | 21/30 [02:28<01:03,  7.05s/it]"
     ]
    },
    {
     "name": "stdout",
     "output_type": "stream",
     "text": [
      "Model saved at epoch:  21 , with validation acc:  89.65517241379311 %\n"
     ]
    },
    {
     "name": "stderr",
     "output_type": "stream",
     "text": [
      " 77%|███████▋  | 23/30 [02:42<00:49,  7.06s/it]"
     ]
    },
    {
     "name": "stdout",
     "output_type": "stream",
     "text": [
      "Model saved at epoch:  23 , with validation acc:  91.37931034482759 %\n"
     ]
    },
    {
     "name": "stderr",
     "output_type": "stream",
     "text": [
      "100%|██████████| 30/30 [03:31<00:00,  7.05s/it]\n"
     ]
    }
   ],
   "source": [
    "my_nr_epochs = 30\n",
    "train_accuracies, train_losses, validation_accuracies, validation_losses = my_net.train_network(\n",
    "                                                        train_data_batches=my_X_train_batches,\n",
    "                                                      train_labels_batches=my_Y_train_batches,\n",
    "                                                   validation_data_batches=my_X_validation_batches,\n",
    "                                                 validation_labels_batches=my_Y_validation_batches,\n",
    "                                                                    epochs=my_nr_epochs,\n",
    "                                                               device_name='cuda')"
   ]
  },
  {
   "cell_type": "code",
   "execution_count": 9,
   "metadata": {
    "collapsed": false,
    "jupyter": {
     "outputs_hidden": false
    },
    "pycharm": {
     "is_executing": true,
     "name": "#%%\n"
    }
   },
   "outputs": [
    {
     "data": {
      "image/png": "[encoded data removed]",
      "text/plain": [
       "<Figure size 504x432 with 1 Axes>"
      ]
     },
     "metadata": {
      "needs_background": "light"
     },
     "output_type": "display_data"
    }
   ],
   "source": [
    "fig, ax = plt.subplots(1,1,figsize=(7,6))\n",
    "epochs = [i for i in range(len(train_accuracies))]\n",
    "ax.plot(epochs,train_accuracies,label=\"train acc\")\n",
    "ax.plot(epochs,train_losses,label=\"train loss\")\n",
    "ax.plot(epochs,validation_accuracies,ls='--',label=\"validation acc\")\n",
    "#ax.plot(epochs,test_losses,label=\"test loss\")\n",
    "ax.set_ylim(-0.1,1.2)\n",
    "ax.set_xlim(-0.2,my_nr_epochs+0.2)\n",
    "ax.hlines(0,-0.2,my_nr_epochs+0.2,lw=4,color=\"k\")\n",
    "ax.set_xlabel(\"Epoch nr.\")\n",
    "ax.legend(loc=1)\n",
    "plt.show()"
   ]
  },
  {
   "cell_type": "code",
   "execution_count": 10,
   "metadata": {
    "collapsed": false,
    "jupyter": {
     "outputs_hidden": false
    },
    "pycharm": {
     "is_executing": true,
     "name": "#%%\n"
    }
   },
   "outputs": [
    {
     "name": "stdout",
     "output_type": "stream",
     "text": [
      "Testing model on all available test batches..\n",
      "\n",
      " #####|  137 / 144  items in  36  test batches predicted correctly ~ acc:  0.9514  |#####\n"
     ]
    }
   ],
   "source": [
    "test_model(my_net,prepped_data)"
   ]
  },
  {
   "cell_type": "code",
   "execution_count": null,
   "metadata": {
    "collapsed": false,
    "jupyter": {
     "outputs_hidden": false
    },
    "pycharm": {
     "is_executing": true,
     "name": "#%%\n"
    }
   },
   "outputs": [],
   "source": []
  }
 ],
 "metadata": {
  "kernelspec": {
   "display_name": "Python 3 (ipykernel)",
   "language": "python",
   "name": "python3"
  },
  "language_info": {
   "codemirror_mode": {
    "name": "ipython",
    "version": 3
   },
   "file_extension": ".py",
   "mimetype": "text/x-python",
   "name": "python",
   "nbconvert_exporter": "python",
   "pygments_lexer": "ipython3",
   "version": "3.9.12"
  }
 },
 "nbformat": 4,
 "nbformat_minor": 4
}
