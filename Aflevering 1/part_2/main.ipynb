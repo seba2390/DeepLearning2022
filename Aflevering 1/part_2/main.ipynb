{
 "cells": [
  {
   "cell_type": "code",
   "execution_count": 3,
   "outputs": [],
   "source": [
    "import torch\n",
    "import torchvision.transforms as transforms\n",
    "import matplotlib.pyplot as plt\n",
    "from myDataSet import *\n",
    "from myNetworks import *\n",
    "from myUtil import *\n",
    "from tqdm import tqdm"
   ],
   "metadata": {
    "collapsed": false,
    "pycharm": {
     "name": "#%%\n"
    }
   }
  },
  {
   "cell_type": "code",
   "execution_count": 4,
   "outputs": [
    {
     "data": {
      "text/plain": "dict_keys(['a', 'b'])"
     },
     "execution_count": 4,
     "metadata": {},
     "output_type": "execute_result"
    }
   ],
   "source": [
    "test = {\"a\":0,\"b\":33}\n",
    "test"
   ],
   "metadata": {
    "collapsed": false,
    "pycharm": {
     "name": "#%%\n"
    }
   }
  },
  {
   "cell_type": "code",
   "execution_count": 2,
   "outputs": [],
   "source": [
    "# TODO: Implement GPU memory alloc in case of CUDA\n",
    "# TODO: enable parallel GPU computation"
   ],
   "metadata": {
    "collapsed": false,
    "pycharm": {
     "name": "#%%\n"
    }
   }
  },
  {
   "cell_type": "code",
   "execution_count": 3,
   "outputs": [
    {
     "name": "stdout",
     "output_type": "stream",
     "text": [
      "Initial nr. of batches:  181\n",
      "Nr. batches after 'data_fraction' splitting:  9\n",
      "Nr. batches set aside for testing:  1\n",
      "Nr. batches set aside for validation:  1\n",
      "Nr. batches remaining for training:  7\n",
      "Shape of single X batch:  (4, 3, 520, 520)\n"
     ]
    }
   ],
   "source": [
    "# Set up the dataset.\n",
    "image_directory = \"Insects\"\n",
    "annotations_file_directory = \"insects.csv\"\n",
    "image_dims = (520,520)\n",
    "my_transform = torchvision.transforms.Resize(image_dims)\n",
    "dataset = MyCustomImageDataset(annotations_file_dir=annotations_file_directory,\n",
    "                               image_directory_path=image_directory,\n",
    "                               transform=my_transform)\n",
    "\n",
    "# Preparing data for learning (normalization, one-hot encoding and batching)\n",
    "my_batch_size, my_data_fraction, my_test_fraction, my_validation_fraction = 4, 0.05, 0.2, 0.3\n",
    "prepped_data = DataPrep(dataset=dataset,\n",
    "                        batch_size=my_batch_size,\n",
    "                        data_fraction=my_data_fraction,\n",
    "                        test_fraction=my_test_fraction,\n",
    "                        validation_fraction=my_validation_fraction)\n",
    "\n",
    "my_X_train_batches, my_Y_train_batches = prepped_data.train_X, prepped_data.train_Y\n",
    "my_X_validation_batches, my_Y_validation_batches = prepped_data.validation_X, prepped_data.validation_Y\n",
    "print(\"Shape of single X batch: \",tuple(my_X_train_batches[0].shape))"
   ],
   "metadata": {
    "collapsed": false,
    "pycharm": {
     "name": "#%%\n"
    }
   }
  },
  {
   "cell_type": "code",
   "execution_count": 4,
   "outputs": [],
   "source": [
    "# Creating instance of neural network\n",
    "my_nr_channels = my_X_train_batches[0].shape[1]\n",
    "my_nr_classes = my_Y_train_batches[0].shape[1]\n",
    "my_input_dimensions = (my_X_train_batches[0].shape[2], my_X_train_batches[0].shape[3])\n",
    "\n",
    "my_net = NeuralNet(channels_in=my_nr_channels,\n",
    "                   nr_classes=my_nr_classes,\n",
    "                   input_dimensions=my_input_dimensions)"
   ],
   "metadata": {
    "collapsed": false,
    "pycharm": {
     "name": "#%%\n"
    }
   }
  },
  {
   "cell_type": "code",
   "execution_count": 5,
   "outputs": [
    {
     "name": "stderr",
     "output_type": "stream",
     "text": [
      "  5%|▌         | 1/20 [00:08<02:47,  8.83s/it]"
     ]
    },
    {
     "name": "stdout",
     "output_type": "stream",
     "text": [
      "Model saved at epoch:  1 , with validation acc:  tensor(75.) %\n"
     ]
    },
    {
     "name": "stderr",
     "output_type": "stream",
     "text": [
      "100%|██████████| 20/20 [02:52<00:00,  8.61s/it]\n"
     ]
    }
   ],
   "source": [
    "train_accuracies, train_losses, validation_accuracies, validation_losses = my_net.train_network(\n",
    "                                                        train_data_batches=my_X_train_batches,\n",
    "                                                      train_labels_batches=my_Y_train_batches,\n",
    "                                                   validation_data_batches=my_X_validation_batches,\n",
    "                                                 validation_labels_batches=my_Y_validation_batches,\n",
    "                                                                    epochs=20,\n",
    "                                                               device_name='cpu')"
   ],
   "metadata": {
    "collapsed": false,
    "pycharm": {
     "name": "#%%\n"
    }
   }
  },
  {
   "cell_type": "code",
   "execution_count": 6,
   "outputs": [
    {
     "data": {
      "text/plain": "<Figure size 700x600 with 1 Axes>",
      "image/png": "[encoded data removed]"
     },
     "metadata": {},
     "output_type": "display_data"
    }
   ],
   "source": [
    "fig, ax = plt.subplots(1,1,figsize=(7,6))\n",
    "epochs = [i for i in range(len(train_accuracies))]\n",
    "ax.plot(epochs,train_accuracies,label=\"train acc\")\n",
    "ax.plot(epochs,train_losses,label=\"train loss\")\n",
    "ax.plot(epochs,validation_accuracies,ls='--',label=\"validation acc\")\n",
    "#ax.plot(epochs,test_losses,label=\"test loss\")\n",
    "ax.set_ylim(-0.1,1.2)\n",
    "ax.set_xlim(-0.2,20.2)\n",
    "ax.hlines(0,-0.2,20.2,lw=4,color=\"k\")\n",
    "ax.set_xlabel(\"Epoch nr.\")\n",
    "ax.legend(loc=1)\n",
    "plt.show()"
   ],
   "metadata": {
    "collapsed": false,
    "pycharm": {
     "name": "#%%\n"
    }
   }
  },
  {
   "cell_type": "code",
   "execution_count": 7,
   "outputs": [
    {
     "name": "stdout",
     "output_type": "stream",
     "text": [
      "[tensor(0.3929), tensor(0.3929), tensor(0.3929), tensor(0.3929), tensor(0.3929), tensor(0.4286), tensor(0.4286), tensor(0.4643), tensor(0.4643), tensor(0.4643), tensor(0.4286), tensor(0.4286), tensor(0.4286), tensor(0.4643), tensor(0.4643), tensor(0.4643), tensor(0.4643), tensor(0.4643), tensor(0.5000), tensor(0.5000), tensor(0.5000)]\n"
     ]
    }
   ],
   "source": [
    "print(train_accuracies)"
   ],
   "metadata": {
    "collapsed": false,
    "pycharm": {
     "name": "#%%\n"
    }
   }
  },
  {
   "cell_type": "code",
   "execution_count": 8,
   "outputs": [
    {
     "name": "stdout",
     "output_type": "stream",
     "text": [
      "Testing model on all available test batches..\n",
      "\n",
      " #####|  1 / 4  items in  1  test batches predicted correctly ~ acc:  0.25  |#####\n"
     ]
    }
   ],
   "source": [
    "test_model(my_net,prepped_data)"
   ],
   "metadata": {
    "collapsed": false,
    "pycharm": {
     "name": "#%%\n"
    }
   }
  },
  {
   "cell_type": "code",
   "execution_count": 8,
   "outputs": [],
   "source": [],
   "metadata": {
    "collapsed": false,
    "pycharm": {
     "name": "#%%\n"
    }
   }
  }
 ],
 "metadata": {
  "kernelspec": {
   "display_name": "Python 3",
   "language": "python",
   "name": "python3"
  },
  "language_info": {
   "codemirror_mode": {
    "name": "ipython",
    "version": 2
   },
   "file_extension": ".py",
   "mimetype": "text/x-python",
   "name": "python",
   "nbconvert_exporter": "python",
   "pygments_lexer": "ipython2",
   "version": "2.7.6"
  }
 },
 "nbformat": 4,
 "nbformat_minor": 0
}