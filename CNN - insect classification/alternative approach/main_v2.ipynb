{
 "cells": [
  {
   "cell_type": "code",
   "execution_count": 8,
   "outputs": [],
   "source": [
    "import torch\n",
    "import torchvision\n",
    "import torchvision.transforms as transforms\n",
    "from torch.utils.data import DataLoader\n",
    "import matplotlib.pyplot as plt\n",
    "import numpy as np\n",
    "from myDataSet_v2 import *\n",
    "from myNetworks_v2 import *\n",
    "from tqdm import tqdm"
   ],
   "metadata": {
    "collapsed": false,
    "pycharm": {
     "name": "#%%\n"
    }
   }
  },
  {
   "cell_type": "code",
   "execution_count": 2,
   "outputs": [],
   "source": [
    "\n",
    "def test_model(trained_model: NeuralNet | NeuralNet2,\n",
    "               data: DataPrep,\n",
    "               nr_batches: int = 0,\n",
    "               verbose: bool = False) -> None:\n",
    "    \"\"\"\n",
    "    Void type function that tests a trained model on 'nr_batches' randomly\n",
    "    selected batches by comparing model prediction with actual label.\n",
    "\n",
    "     Parameters:\n",
    "    - trained_model: the trained Neural Net.\n",
    "    - data: that data to test model on.\n",
    "    - nr_batches: the nr. of batches to test on.\n",
    "    - verbose: boolean determining whether to print progress.\n",
    "\n",
    "    \"\"\"\n",
    "\n",
    "    assert nr_batches <= len(data.Y), f'Requested nr. batches is larger than nr. batches available in data.'\n",
    "\n",
    "    # Defaulting to all batches\n",
    "    if nr_batches == 0:\n",
    "        print(\"Testing model on all available test batches..\")\n",
    "        rand_indices = [i for i in range(len(data.validation_Y))]\n",
    "    else:\n",
    "        # Generating random indices\n",
    "        rand_indices = []\n",
    "        while len(rand_indices) < nr_batches:\n",
    "            _rand_int = torch.randint(low=0, high=len(data.validation_Y), size=(1,)).item()\n",
    "            if _rand_int not in rand_indices:\n",
    "                rand_indices.append(_rand_int)\n",
    "\n",
    "    # Predicting w. model and checking against true labels\n",
    "    batch_counter = 0\n",
    "    correct_counter = 0\n",
    "    with torch.no_grad():\n",
    "        for _index in rand_indices:\n",
    "            mod = trained_model.forward(data.validation_X[_index])\n",
    "            y_hat = trained_model.predict(mod)\n",
    "            y_real = data.validation_Y[_index]\n",
    "            if verbose:\n",
    "                print(\"\\n ---  Random Batch: \", batch_counter + 1, \" ---\")\n",
    "            for _data_point in range(y_hat.shape[0]):\n",
    "                pred = list(data.label_dict.keys())[torch.where(y_hat[_data_point] == 1)[0]]\n",
    "                actual = list(data.label_dict.keys())[torch.where(y_real[_data_point] == 1)[0]]\n",
    "                if verbose:\n",
    "                    print(\"  ##| Prediction: \", pred, \" |--| Actual: \", actual, \" |##\")\n",
    "                if pred == actual:\n",
    "                    correct_counter += 1\n",
    "            batch_counter += 1\n",
    "    print(\"\\n #####| \", correct_counter, \"/\", batch_counter * data.batch_size, \" items in \", len(rand_indices), \" test batches predicted correctly ~ acc: \", round(correct_counter / (batch_counter * data.batch_size), 4), \" |#####\")\n",
    "\n"
   ],
   "metadata": {
    "collapsed": false,
    "pycharm": {
     "name": "#%%\n"
    }
   }
  },
  {
   "cell_type": "code",
   "execution_count": 3,
   "outputs": [
    {
     "name": "stdout",
     "output_type": "stream",
     "text": [
      "Batch size:  4\n",
      "Nr. of batches for training:  6\n",
      "Nr. of batches for validation:  2\n",
      "Nr. of batches for testing:  2\n"
     ]
    }
   ],
   "source": [
    "# Setting up the dataset and dataloaders\n",
    "image_directory = \"Insects\"\n",
    "annotations_file_directory = \"insects.csv\"\n",
    "image_dims = (520,520)\n",
    "my_transform = torchvision.transforms.Resize(image_dims)\n",
    "full_dataset = MyCustomImageDataset2(annotations_file_dir=annotations_file_directory,\n",
    "                               image_directory_path=image_directory,\n",
    "                               transform=my_transform)\n",
    "\n",
    "# Fraction of available data to consider\n",
    "data_fraction = 0.05\n",
    "\n",
    "init_full_len = full_dataset.__len__()\n",
    "data_len = int(init_full_len*data_fraction)\n",
    "_ , full_dataset = torch.utils.data.random_split(dataset=full_dataset,\n",
    "                                                 lengths=(init_full_len-data_len,data_len))\n",
    "\n",
    "# Splitting into training, test and validation sets\n",
    "test_fraction = 0.2\n",
    "validation_fraction = 0.2\n",
    "\n",
    "full_len = full_dataset.__len__()\n",
    "test_len = int(test_fraction*full_len)\n",
    "remaining_len = full_len - test_len\n",
    "validation_len = int(validation_fraction * remaining_len)\n",
    "\n",
    "my_lengths = (full_len - test_len - validation_len, validation_len, test_len)\n",
    "train_set, validation_set, test_set =  torch.utils.data.random_split(dataset=full_dataset,\n",
    "                                                                     lengths=my_lengths)\n",
    "\n",
    "my_batch_size = 4\n",
    "train_dataloader = DataLoader(train_set, batch_size=my_batch_size, shuffle=True)\n",
    "test_dataloader = DataLoader(test_set, batch_size=my_batch_size, shuffle=True)\n",
    "validation_dataloader = DataLoader(validation_set, batch_size=my_batch_size, shuffle=True)\n",
    "\n",
    "print(\"Batch size: \", my_batch_size)\n",
    "print(\"Nr. of batches for training: \", train_dataloader.__len__())\n",
    "print(\"Nr. of batches for validation: \", validation_dataloader.__len__())\n",
    "print(\"Nr. of batches for testing: \", test_dataloader.__len__())\n"
   ],
   "metadata": {
    "collapsed": false,
    "pycharm": {
     "name": "#%%\n"
    }
   }
  },
  {
   "cell_type": "code",
   "execution_count": 4,
   "outputs": [],
   "source": [
    "my_net = NeuralNet4(channels_in=3,\n",
    "                    nr_classes=3,\n",
    "                    input_dimensions=image_dims)"
   ],
   "metadata": {
    "collapsed": false,
    "pycharm": {
     "name": "#%%\n"
    }
   }
  },
  {
   "cell_type": "code",
   "execution_count": 12,
   "outputs": [
    {
     "data": {
      "text/plain": "724"
     },
     "execution_count": 12,
     "metadata": {},
     "output_type": "execute_result"
    }
   ],
   "source": [
    "validation_set.indices"
   ],
   "metadata": {
    "collapsed": false,
    "pycharm": {
     "name": "#%%\n"
    }
   }
  },
  {
   "cell_type": "code",
   "execution_count": 5,
   "outputs": [
    {
     "name": "stderr",
     "output_type": "stream",
     "text": [
      " 10%|█         | 1/10 [00:05<00:53,  5.96s/it]"
     ]
    },
    {
     "name": "stdout",
     "output_type": "stream",
     "text": [
      "Model saved at epoch:  1 , with validation acc:  33.33333432674408 %\n"
     ]
    },
    {
     "name": "stderr",
     "output_type": "stream",
     "text": [
      "100%|██████████| 10/10 [00:57<00:00,  5.71s/it]\n"
     ]
    }
   ],
   "source": [
    "train_accuracies, train_losses, validation_accuracies, validation_losses = my_net.train_network(train_dataloader=train_dataloader,validation_dataloader=validation_dataloader,epochs=10,device_name='cpu')"
   ],
   "metadata": {
    "collapsed": false,
    "pycharm": {
     "name": "#%%\n"
    }
   }
  },
  {
   "cell_type": "code",
   "execution_count": 7,
   "outputs": [
    {
     "data": {
      "text/plain": "<Figure size 400x400 with 1 Axes>",
      "image/png": "[encoded data removed]"
     },
     "metadata": {},
     "output_type": "display_data"
    }
   ],
   "source": [
    "fig, ax = plt.subplots(1,1,figsize=(4,4))\n",
    "epochs = [i+1 for i in range(len(train_accuracies))]\n",
    "ax.plot(epochs,train_accuracies,label=\"train acc\")\n",
    "ax.plot(epochs,train_losses,label=\"train loss\")\n",
    "ax.plot(epochs,validation_accuracies,ls='--',label=\"validation acc\")\n",
    "ax.plot(epochs,validation_losses,label=\"test loss\")\n",
    "ax.set_ylim(-0.1,1.2)\n",
    "ax.set_xlabel(\"Epoch nr.\")\n",
    "ax.legend()\n",
    "plt.show()"
   ],
   "metadata": {
    "collapsed": false,
    "pycharm": {
     "name": "#%%\n"
    }
   }
  },
  {
   "cell_type": "code",
   "execution_count": 6,
   "outputs": [],
   "source": [],
   "metadata": {
    "collapsed": false,
    "pycharm": {
     "name": "#%%\n"
    }
   }
  }
 ],
 "metadata": {
  "kernelspec": {
   "display_name": "Python 3",
   "language": "python",
   "name": "python3"
  },
  "language_info": {
   "codemirror_mode": {
    "name": "ipython",
    "version": 2
   },
   "file_extension": ".py",
   "mimetype": "text/x-python",
   "name": "python",
   "nbconvert_exporter": "python",
   "pygments_lexer": "ipython2",
   "version": "2.7.6"
  }
 },
 "nbformat": 4,
 "nbformat_minor": 0
}